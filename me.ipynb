{
 "cells": [
  {
   "cell_type": "code",
   "execution_count": 1,
   "metadata": {},
   "outputs": [],
   "source": [
    "import json\n",
    "import os\n",
    "import re\n",
    "import subprocess\n",
    "import time\n"
   ]
  },
  {
   "cell_type": "code",
   "execution_count": 2,
   "metadata": {},
   "outputs": [
    {
     "name": "stdout",
     "output_type": "stream",
     "text": [
      "Done setting up URLs\n"
     ]
    }
   ],
   "source": [
    "SLEEP = 1.5\n",
    "# set the URLs of each website, we use the demo sites as an example\n",
    "os.environ[\n",
    "    \"SHOPPING\"\n",
    "] = \"http://ec2-3-131-244-37.us-east-2.compute.amazonaws.com:7770\"\n",
    "os.environ[\n",
    "    \"SHOPPING_ADMIN\"\n",
    "] = \"http://ec2-3-131-244-37.us-east-2.compute.amazonaws.com:7780/admin\"\n",
    "os.environ[\n",
    "    \"REDDIT\"\n",
    "] = \"http://ec2-3-131-244-37.us-east-2.compute.amazonaws.com:9999\"\n",
    "os.environ[\n",
    "    \"GITLAB\"\n",
    "] = \"http://ec2-3-131-244-37.us-east-2.compute.amazonaws.com:8023\"\n",
    "os.environ[\n",
    "    \"MAP\"\n",
    "] = \"http://ec2-3-131-244-37.us-east-2.compute.amazonaws.com:3000\"\n",
    "os.environ[\n",
    "    \"WIKIPEDIA\"\n",
    "] = \"http://ec2-3-131-244-37.us-east-2.compute.amazonaws.com:8888/wikipedia_en_all_maxi_2022-05/A/User:The_other_Kiwix_guy/Landing\"\n",
    "os.environ[\n",
    "    \"HOMEPAGE\"\n",
    "] = \"PASS\"  # The home page is not currently hosted in the demo site\n",
    "print(\"Done setting up URLs\")\n"
   ]
  },
  {
   "cell_type": "code",
   "execution_count": 3,
   "metadata": {},
   "outputs": [],
   "source": [
    "\n",
    "# First, run `python scripts/generate_test_data.py` to generate the config files\n",
    "p = subprocess.run(\n",
    "    [\"python\", \"scripts/generate_test_data.py\"], capture_output=True\n",
    ")\n"
   ]
  },
  {
   "cell_type": "code",
   "execution_count": 4,
   "metadata": {},
   "outputs": [],
   "source": [
    "# It will generate individual config file for each test example in config_files\n",
    "assert os.path.exists(\"config_files/0.json\")\n"
   ]
  },
  {
   "cell_type": "code",
   "execution_count": 5,
   "metadata": {},
   "outputs": [],
   "source": [
    "# Make sure the URLs in the config files are replaced properly\n",
    "with open(\"config_files/0.json\", \"r\") as f:\n",
    "    config = json.load(f)\n",
    "    assert os.environ[\"SHOPPING_ADMIN\"] in config[\"start_url\"], (\n",
    "        os.environ[\"SHOPPING_ADMIN\"],\n",
    "        config[\"start_url\"],\n",
    "    )\n"
   ]
  },
  {
   "cell_type": "code",
   "execution_count": 6,
   "metadata": {},
   "outputs": [
    {
     "name": "stdout",
     "output_type": "stream",
     "text": [
      "Done generating config files with the correct URLs\n"
     ]
    }
   ],
   "source": [
    "print(\"Done generating config files with the correct URLs\")\n"
   ]
  },
  {
   "cell_type": "code",
   "execution_count": 7,
   "metadata": {},
   "outputs": [
    {
     "name": "stderr",
     "output_type": "stream",
     "text": [
      "/Users/adnanazmat/miniconda3/envs/webarena/lib/python3.10/site-packages/beartype/_util/hint/pep/utilpeptest.py:345: BeartypeDecorHintPep585DeprecationWarning: PEP 484 type hint typing.Mapping[str, gymnasium.spaces.space.Space[typing.Any]] deprecated by PEP 585 scheduled for removal in the first Python version released after October 5th, 2025. To resolve this, import this hint from \"beartype.typing\" rather than \"typing\". See this discussion for further details and alternatives:\n",
      "    https://github.com/beartype/beartype#pep-585-deprecations\n",
      "  warn(\n"
     ]
    },
    {
     "name": "stdout",
     "output_type": "stream",
     "text": [
      "Done saving account cookies\n"
     ]
    }
   ],
   "source": [
    "subprocess.run([\"bash\", \"prepare.sh\"])\n",
    "print(\"Done saving account cookies\")\n"
   ]
  },
  {
   "cell_type": "code",
   "execution_count": 8,
   "metadata": {},
   "outputs": [
    {
     "name": "stderr",
     "output_type": "stream",
     "text": [
      "/Users/adnanazmat/miniconda3/envs/webarena/lib/python3.10/site-packages/beartype/_util/hint/pep/utilpeptest.py:345: BeartypeDecorHintPep585DeprecationWarning: PEP 484 type hint typing.Mapping[str, gymnasium.spaces.space.Space[typing.Any]] deprecated by PEP 585 scheduled for removal in the first Python version released after October 5th, 2025. To resolve this, import this hint from \"beartype.typing\" rather than \"typing\". See this discussion for further details and alternatives:\n",
      "    https://github.com/beartype/beartype#pep-585-deprecations\n",
      "  warn(\n",
      "/Users/adnanazmat/miniconda3/envs/webarena/lib/python3.10/site-packages/pydantic/_internal/_fields.py:151: UserWarning: Field \"model_id\" has conflict with protected namespace \"model_\".\n",
      "\n",
      "You may be able to resolve this warning by setting `model_config['protected_namespaces'] = ()`.\n",
      "  warnings.warn(\n",
      "/Users/adnanazmat/miniconda3/envs/webarena/lib/python3.10/site-packages/tqdm/auto.py:21: TqdmWarning: IProgress not found. Please update jupyter and ipywidgets. See https://ipywidgets.readthedocs.io/en/stable/user_install.html\n",
      "  from .autonotebook import tqdm as notebook_tqdm\n"
     ]
    }
   ],
   "source": [
    "# Init an environment\n",
    "from browser_env import (\n",
    "    Action,\n",
    "    ActionTypes,\n",
    "    ObservationMetadata,\n",
    "    ScriptBrowserEnv,\n",
    "    StateInfo,\n",
    "    Trajectory,\n",
    "    action2str,\n",
    "    create_id_based_action,\n",
    "    create_stop_action,\n",
    ")\n",
    "from evaluation_harness.evaluators import evaluator_router\n"
   ]
  },
  {
   "cell_type": "code",
   "execution_count": 9,
   "metadata": {},
   "outputs": [],
   "source": [
    "# Init the environment\n",
    "env = ScriptBrowserEnv(\n",
    "    headless=False,\n",
    "    slow_mo=100,\n",
    "    observation_type=\"accessibility_tree\",\n",
    "    current_viewport_only=True,\n",
    "    viewport_size={\"width\": 1280, \"height\": 720},\n",
    ")"
   ]
  },
  {
   "cell_type": "code",
   "execution_count": 10,
   "metadata": {},
   "outputs": [],
   "source": [
    "! playwright install-deps"
   ]
  },
  {
   "cell_type": "code",
   "execution_count": 11,
   "metadata": {},
   "outputs": [],
   "source": [
    "\n",
    "# example 156 as an example\n",
    "config_file = \"config_files/156.json\"\n",
    "# maintain a trajectory\n",
    "trajectory: Trajectory = []"
   ]
  },
  {
   "cell_type": "code",
   "execution_count": 12,
   "metadata": {},
   "outputs": [
    {
     "data": {
      "text/plain": [
       "<browser_env.envs.ScriptBrowserEnv at 0x15cea3bb0>"
      ]
     },
     "execution_count": 12,
     "metadata": {},
     "output_type": "execute_result"
    }
   ],
   "source": [
    "env"
   ]
  },
  {
   "cell_type": "code",
   "execution_count": 13,
   "metadata": {},
   "outputs": [
    {
     "ename": "Error",
     "evalue": "It looks like you are using Playwright Sync API inside the asyncio loop.\nPlease use the Async API instead.",
     "output_type": "error",
     "traceback": [
      "\u001b[0;31m---------------------------------------------------------------------------\u001b[0m",
      "\u001b[0;31mError\u001b[0m                                     Traceback (most recent call last)",
      "Cell \u001b[0;32mIn[13], line 2\u001b[0m\n\u001b[1;32m      1\u001b[0m \u001b[38;5;66;03m# set the environment for the current example\u001b[39;00m\n\u001b[0;32m----> 2\u001b[0m obs, info \u001b[38;5;241m=\u001b[39m \u001b[43menv\u001b[49m\u001b[38;5;241;43m.\u001b[39;49m\u001b[43mreset\u001b[49m\u001b[43m(\u001b[49m\u001b[43moptions\u001b[49m\u001b[38;5;241;43m=\u001b[39;49m\u001b[43m{\u001b[49m\u001b[38;5;124;43m\"\u001b[39;49m\u001b[38;5;124;43mconfig_file\u001b[39;49m\u001b[38;5;124;43m\"\u001b[39;49m\u001b[43m:\u001b[49m\u001b[43m \u001b[49m\u001b[43mconfig_file\u001b[49m\u001b[43m}\u001b[49m\u001b[43m)\u001b[49m\n\u001b[1;32m      3\u001b[0m actree_obs \u001b[38;5;241m=\u001b[39m obs[\u001b[38;5;124m\"\u001b[39m\u001b[38;5;124mtext\u001b[39m\u001b[38;5;124m\"\u001b[39m]\n\u001b[1;32m      4\u001b[0m \u001b[38;5;28mprint\u001b[39m(actree_obs)\n",
      "File \u001b[0;32m<@beartype(browser_env.envs.ScriptBrowserEnv.reset) at 0x10bf80a60>:51\u001b[0m, in \u001b[0;36mreset\u001b[0;34m(__beartype_func, __beartype_conf, __beartype_get_violation, __beartype_object_4495764032, __beartype_object_4341036720, *args, **kwargs)\u001b[0m\n",
      "File \u001b[0;32m~/repos/webarena/browser_env/envs.py:203\u001b[0m, in \u001b[0;36mScriptBrowserEnv.reset\u001b[0;34m(self, seed, options)\u001b[0m\n\u001b[1;32m    201\u001b[0m config_file \u001b[38;5;241m=\u001b[39m Path(options[\u001b[38;5;124m\"\u001b[39m\u001b[38;5;124mconfig_file\u001b[39m\u001b[38;5;124m\"\u001b[39m])\n\u001b[1;32m    202\u001b[0m \u001b[38;5;28;01mif\u001b[39;00m config_file\u001b[38;5;241m.\u001b[39mexists():\n\u001b[0;32m--> 203\u001b[0m     \u001b[38;5;28;43mself\u001b[39;49m\u001b[38;5;241;43m.\u001b[39;49m\u001b[43msetup\u001b[49m\u001b[43m(\u001b[49m\u001b[43mconfig_file\u001b[49m\u001b[38;5;241;43m=\u001b[39;49m\u001b[43mconfig_file\u001b[49m\u001b[43m)\u001b[49m\n\u001b[1;32m    204\u001b[0m \u001b[38;5;28;01melse\u001b[39;00m:\n\u001b[1;32m    205\u001b[0m     \u001b[38;5;28;01mraise\u001b[39;00m \u001b[38;5;167;01mValueError\u001b[39;00m(\u001b[38;5;124mf\u001b[39m\u001b[38;5;124m\"\u001b[39m\u001b[38;5;124mConfig file \u001b[39m\u001b[38;5;132;01m{\u001b[39;00mconfig_file\u001b[38;5;132;01m}\u001b[39;00m\u001b[38;5;124m does not exist.\u001b[39m\u001b[38;5;124m\"\u001b[39m)\n",
      "File \u001b[0;32m<@beartype(browser_env.envs.ScriptBrowserEnv.setup) at 0x10bf80790>:36\u001b[0m, in \u001b[0;36msetup\u001b[0;34m(__beartype_func, __beartype_conf, __beartype_get_violation, __beartype_object_4495763008, __beartype_object_4341036720, *args, **kwargs)\u001b[0m\n",
      "File \u001b[0;32m~/repos/webarena/browser_env/envs.py:127\u001b[0m, in \u001b[0;36mScriptBrowserEnv.setup\u001b[0;34m(self, config_file)\u001b[0m\n\u001b[1;32m    124\u001b[0m \u001b[38;5;129m@beartype\u001b[39m\n\u001b[1;32m    125\u001b[0m \u001b[38;5;28;01mdef\u001b[39;00m \u001b[38;5;21msetup\u001b[39m(\u001b[38;5;28mself\u001b[39m, config_file: Path \u001b[38;5;241m|\u001b[39m \u001b[38;5;28;01mNone\u001b[39;00m \u001b[38;5;241m=\u001b[39m \u001b[38;5;28;01mNone\u001b[39;00m) \u001b[38;5;241m-\u001b[39m\u001b[38;5;241m>\u001b[39m \u001b[38;5;28;01mNone\u001b[39;00m:\n\u001b[1;32m    126\u001b[0m     \u001b[38;5;28mself\u001b[39m\u001b[38;5;241m.\u001b[39mcontext_manager \u001b[38;5;241m=\u001b[39m sync_playwright()\n\u001b[0;32m--> 127\u001b[0m     \u001b[38;5;28mself\u001b[39m\u001b[38;5;241m.\u001b[39mplaywright \u001b[38;5;241m=\u001b[39m \u001b[38;5;28;43mself\u001b[39;49m\u001b[38;5;241;43m.\u001b[39;49m\u001b[43mcontext_manager\u001b[49m\u001b[38;5;241;43m.\u001b[39;49m\u001b[38;5;21;43m__enter__\u001b[39;49m\u001b[43m(\u001b[49m\u001b[43m)\u001b[49m\n\u001b[1;32m    128\u001b[0m     \u001b[38;5;28mself\u001b[39m\u001b[38;5;241m.\u001b[39mbrowser \u001b[38;5;241m=\u001b[39m \u001b[38;5;28mself\u001b[39m\u001b[38;5;241m.\u001b[39mplaywright\u001b[38;5;241m.\u001b[39mchromium\u001b[38;5;241m.\u001b[39mlaunch(\n\u001b[1;32m    129\u001b[0m         headless\u001b[38;5;241m=\u001b[39m\u001b[38;5;28mself\u001b[39m\u001b[38;5;241m.\u001b[39mheadless, slow_mo\u001b[38;5;241m=\u001b[39m\u001b[38;5;28mself\u001b[39m\u001b[38;5;241m.\u001b[39mslow_mo\n\u001b[1;32m    130\u001b[0m     )\n\u001b[1;32m    132\u001b[0m     \u001b[38;5;28;01mif\u001b[39;00m config_file:\n",
      "File \u001b[0;32m~/miniconda3/envs/webarena/lib/python3.10/site-packages/playwright/sync_api/_context_manager.py:47\u001b[0m, in \u001b[0;36mPlaywrightContextManager.__enter__\u001b[0;34m(self)\u001b[0m\n\u001b[1;32m     45\u001b[0m             \u001b[38;5;28mself\u001b[39m\u001b[38;5;241m.\u001b[39m_own_loop \u001b[38;5;241m=\u001b[39m \u001b[38;5;28;01mTrue\u001b[39;00m\n\u001b[1;32m     46\u001b[0m         \u001b[38;5;28;01mif\u001b[39;00m \u001b[38;5;28mself\u001b[39m\u001b[38;5;241m.\u001b[39m_loop\u001b[38;5;241m.\u001b[39mis_running():\n\u001b[0;32m---> 47\u001b[0m             \u001b[38;5;28;01mraise\u001b[39;00m Error(\n\u001b[1;32m     48\u001b[0m \u001b[38;5;250m                \u001b[39m\u001b[38;5;124;03m\"\"\"It looks like you are using Playwright Sync API inside the asyncio loop.\u001b[39;00m\n\u001b[1;32m     49\u001b[0m \u001b[38;5;124;03mPlease use the Async API instead.\"\"\"\u001b[39;00m\n\u001b[1;32m     50\u001b[0m             )\n\u001b[1;32m     52\u001b[0m         \u001b[38;5;66;03m# In Python 3.7, asyncio.Process.wait() hangs because it does not use ThreadedChildWatcher\u001b[39;00m\n\u001b[1;32m     53\u001b[0m         \u001b[38;5;66;03m# which is used in Python 3.8+. This is unix specific and also takes care about\u001b[39;00m\n\u001b[1;32m     54\u001b[0m         \u001b[38;5;66;03m# cleaning up zombie processes. See https://bugs.python.org/issue35621\u001b[39;00m\n\u001b[1;32m     55\u001b[0m         \u001b[38;5;28;01mif\u001b[39;00m (\n\u001b[1;32m     56\u001b[0m             sys\u001b[38;5;241m.\u001b[39mversion_info[\u001b[38;5;241m0\u001b[39m] \u001b[38;5;241m==\u001b[39m \u001b[38;5;241m3\u001b[39m\n\u001b[1;32m     57\u001b[0m             \u001b[38;5;129;01mand\u001b[39;00m sys\u001b[38;5;241m.\u001b[39mversion_info[\u001b[38;5;241m1\u001b[39m] \u001b[38;5;241m==\u001b[39m \u001b[38;5;241m7\u001b[39m\n\u001b[1;32m     58\u001b[0m             \u001b[38;5;129;01mand\u001b[39;00m sys\u001b[38;5;241m.\u001b[39mplatform \u001b[38;5;241m!=\u001b[39m \u001b[38;5;124m\"\u001b[39m\u001b[38;5;124mwin32\u001b[39m\u001b[38;5;124m\"\u001b[39m\n\u001b[1;32m     59\u001b[0m             \u001b[38;5;129;01mand\u001b[39;00m \u001b[38;5;28misinstance\u001b[39m(asyncio\u001b[38;5;241m.\u001b[39mget_child_watcher(), asyncio\u001b[38;5;241m.\u001b[39mSafeChildWatcher)\n\u001b[1;32m     60\u001b[0m         ):\n",
      "\u001b[0;31mError\u001b[0m: It looks like you are using Playwright Sync API inside the asyncio loop.\nPlease use the Async API instead."
     ]
    }
   ],
   "source": [
    "# set the environment for the current example\n",
    "obs, info = env.reset(options={\"config_file\": config_file})\n",
    "actree_obs = obs[\"text\"]\n",
    "print(actree_obs)"
   ]
  },
  {
   "cell_type": "code",
   "execution_count": null,
   "metadata": {},
   "outputs": [],
   "source": []
  },
  {
   "cell_type": "code",
   "execution_count": 47,
   "metadata": {},
   "outputs": [
    {
     "name": "stdout",
     "output_type": "stream",
     "text": [
      "Python 3.10.13\n"
     ]
    }
   ],
   "source": [
    "# print python version\n",
    "! python --version"
   ]
  },
  {
   "cell_type": "code",
   "execution_count": null,
   "metadata": {},
   "outputs": [],
   "source": [
    "Frame skipped from debugging during step-in.\n",
    "Note: may have been skipped because of \"justMyCode\" option (default == true). Try setting \"justMyCode\": false in the debug configuration (e.g., launch.json).\n",
    "pairs\n",
    "[('gitlab', 'shopping'), ('gitlab', 'shopping_admin'), ('gitlab', 'reddit'), ('shopping', 'shopping_admin'), ('shopping', 'reddit'), ('shopping_admin', 'reddit')]\n",
    "special variables:\n",
    "function variables:\n",
    "0: ('gitlab', 'shopping')\n",
    "1: ('gitlab', 'shopping_admin')\n",
    "2: ('gitlab', 'reddit')\n",
    "3: ('shopping', 'shopping_admin')\n",
    "4: ('shopping', 'reddit')\n",
    "5: ('shopping_admin', 'reddit')\n",
    "len(): 6\n",
    "rene\n",
    "Traceback (most recent call last):\n",
    "  File \"<string>\", line 1, in <module>\n",
    "NameError: name 'rene' is not defined\n",
    "renew_comb\n",
    "<function renew_comb at 0x10f7d2b90>\n",
    "future.result()\n",
    "False\n",
    "cookie_files[i]\n",
    "'./.auth/shopping.shopping_admin_state.json'\n",
    "config_file\n",
    "Traceback (most recent call last):\n",
    "  File \"<string>\", line 1, in <module>\n",
    "NameError: name 'config_file' is not defined\n",
    "config_file\n",
    "'config_files/156.json'\n",
    "actree_obs\n",
    "'Tab 0 (current): Projects · Dashboard · GitLab\\n\\n[4] RootWebArea \\'Projects · Dashboard · GitLab\\' focused: True\\n\\t[8] link \\'Skip to content\\'\\n\\t[18] link \\'Dashboard\\'\\n\\t[2738] button \\'\\' hasPopup: menu expanded: False\\n\\t[51] textbox \\'Search GitLab\\' required: False\\n\\t[49] generic \\'Use the shortcut key <kbd>/</kbd> to start a search\\'\\n\\t[69] link \\'Create new...\\'\\n\\t[85] link \\'Issues\\'\\n\\t\\t[87] generic \\'32 assigned issues\\'\\n\\t[90] link \\'Merge requests\\'\\n\\t\\t[93] generic \\'6 merge requests\\'\\n\\t[111] link \\'To-Do List\\'\\n\\t\\t[113] generic \\'Todos count\\'\\n\\t\\t\\t[115] StaticText \\'24\\'\\n\\t[116] link \\'Help\\'\\n\\t[153] link \\'Byte Blaze\\'\\n\\t\\t[155] img \\'Byte Blaze\\'\\n\\t[1870] main \\'\\'\\n\\t\\t[1928] heading \\'Projects\\'\\n\\t\\t[2283] link \\'New project\\'\\n\\t\\t[1605] link \\'Yours 510\\'\\n\\t\\t[1749] link \\'Starred 112\\'\\n\\t\\t[2395] link \\'Explore\\'\\n\\t\\t[2043] link \\'Topics\\'\\n\\t\\t[2411] searchbox \\'Filter by name\\'\\n\\t\\t[2153] button \\'Most stars\\'\\n\\t\\t[2365] link \\'All\\'\\n\\t\\t[2421] link \\'Personal\\'\\n\\t\\t[2119] link \\'A\\'\\n\\t\\t[1748] heading \\'The A11Y Project / a11yproject.com\\'\\n\\t\\t\\t[2160] link \\'The A11Y Project / a11yproject.com\\'\\n\\t\\t[1789] generic \\'Public - The project can be accessed without any authentication.\\'\\n\\t\\t[1704] StaticText \\'Maintainer\\'\\n\\t\\t[2375] StaticText \\'The A11Y Project is a community-driven effort to make digital accessibility easier.\\'\\n\\t\\t[1595] link \\'21\\'\\n\\t\\t[1966] link \\'1\\'\\n\\t\\t[2308] link \\'12\\'\\n\\t\\t[1881] link \\'64\\'\\n\\t\\t[2129] StaticText \\'Updated \\'\\n\\t\\t[1998] time \\'Mar 29, 2024 7:17pm GMT+0530\\'\\n\\t\\t\\t[2689] StaticText \\'16 hours ago\\'\\n\\t\\t[2012] link \\'M\\'\\n\\t\\t[1491] heading \\'Byte Blaze / millennials-to-snake-people\\'\\n\\t\\t\\t[2270] link \\'Byte Blaze / millennials-to-snake-people\\'\\n\\t\\t[1657] generic \\'Public - The project can be accessed without any authentication.\\'\\n\\t\\t[1788] StaticText \\'Owner\\'\\n\\t\\t[1960] generic \\'snake\\'\\n\\t\\t\\t[1593] StaticText \\'🐍\\'\\n\\t\\t[1922] StaticText \" Chrome extension that replaces occurrences of \\'Millennials\\' with \\'Snake People\\'\"\\n\\t\\t[2011] link \\'7\\'\\n\\t\\t[2415] link \\'1\\'\\n\\t\\t[1811] link \\'2\\'\\n\\t\\t[2359] link \\'4\\'\\n\\t\\t[2180] StaticText \\'Updated \\'\\n\\t\\t[1710] time \\'Mar 28, 2024 12:06am GMT+0530\\'\\n\\t\\t\\t[2691] StaticText \\'2 days ago\\'\\n\\t\\t[1580] link \\'E\\'\\n\\t\\t[1773] heading \\'Byte Blaze / empathy-prompts\\'\\n\\t\\t\\t[2423] link \\'Byte Blaze / empathy-prompts\\'\\n\\t\\t[1584] generic \\'Public - The project can be accessed without any authentication.\\'\\n\\t\\t[2464] StaticText \\'Owner\\'\\n\\t\\t[2305] generic \\'electric light bulb\\'\\n\\t\\t\\t[1736] StaticText \\'💡\\'\\n\\t\\t[1683] StaticText \\' Ideas to help consider Inclusive Design principles when making things for others to use.\\'\\n\\t\\t[1865] link \\'6\\'\\n\\t\\t[1718] link \\'1\\'\\n\\t\\t[2177] link \\'2\\'\\n\\t\\t[1868] link \\'8\\'\\n\\t\\t[2209] StaticText \\'Updated \\'\\n\\t\\t[1637] time \\'Mar 27, 2024 4:55pm GMT+0530\\'\\n\\t\\t\\t[2693] StaticText \\'2 days ago\\'\\n\\t\\t[1602] link \\'E\\'\\n\\t\\t[2222] heading \\'Byte Blaze / ericwbailey.website\\'\\n\\t\\t\\t[2217] link \\'Byte Blaze / ericwbailey.website\\'\\n\\t\\t[2400] generic \\'Public - The project can be accessed without any authentication.\\'\\n\\t\\t[1828] StaticText \\'Owner\\'\\n\\t\\t[2424] generic \\'triangular ruler\\'\\n\\t\\t\\t[2186] StaticText \\'📐\\'\\n\\t\\t[2226] StaticText \\' Repo for my personal website.\\'\\n\\t\\t[1678] link \\'3\\'\\n\\t\\t[1888] link \\'0\\'\\n\\t\\t[2033] link \\'0\\'\\n\\t\\t[1590] link \\'0\\'\\n\\t\\t[2356] StaticText \\'Updated \\'\\n\\t\\t[2431] time \\'Mar 28, 2023 4:52am GMT+0530\\'\\n\\t\\t\\t[2695] StaticText \\'1 year ago\\'\\n\\t\\t[2350] link \\'A\\'\\n\\t\\t[2078] heading \\'Byte Blaze / a11y-webring.club\\'\\n\\t\\t\\t[2018] link \\'Byte Blaze / a11y-webring.club\\'\\n\\t\\t[1629] generic \\'Public - The project can be accessed without any authentication.\\'\\n\\t\\t[1957] StaticText \\'Owner\\'\\n\\t\\t[2448] generic \\'globe with meridians\\'\\n\\t\\t\\t[1712] StaticText \\'🌐\\'\\n\\t\\t[2056] StaticText \\' A webring for digital accessibility practitioners.\\'\\n\\t\\t[1839] link \\'3\\'\\n\\t\\t[1778] link \\'0\\'\\n\\t\\t[1850] link \\'0\\'\\n\\t\\t[1512] link \\'4\\'\\n\\t\\t[1628] StaticText \\'Updated \\'\\n\\t\\t[2114] time \\'Mar 28, 2024 9:19pm GMT+0530\\'\\n\\t\\t\\t[2697] StaticText \\'1 day ago\\'\\n\\t\\t[1673] link \\'A\\'\\n\\t\\t[1753] heading \\'Byte Blaze / awesome-llms-2\\'\\n\\t\\t\\t[2193] link \\'Byte Blaze / awesome-llms-2\\'\\n\\t\\t[2088] generic \\'Public - The project can be accessed without any authentication.\\'\\n\\t\\t[2352] StaticText \\'Owner\\'\\n\\t\\t[2281] link \\'1\\'\\n\\t\\t[1769] link \\'0\\'\\n\\t\\t[2170] link \\'0\\'\\n\\t\\t[1597] link \\'1\\'\\n\\t\\t[1894] StaticText \\'Updated \\'\\n\\t\\t[1921] time \\'Mar 4, 2024 1:44pm GMT+0530\\'\\n\\t\\t\\t[2699] StaticText \\'3 weeks ago\\'\\n\\t\\t[2187] link \\'T\\'\\n\\t\\t[1846] heading \\'Byte Blaze / TODO\\'\\n\\t\\t\\t[1903] link \\'Byte Blaze / TODO\\'\\n\\t\\t[1813] generic \\'Public - The project can be accessed without any authentication.\\'\\n\\t\\t[2246] StaticText \\'Owner\\'\\n\\t\\t[2224] link \\'1\\'\\n\\t\\t[1982] link \\'0\\'\\n\\t\\t[1845] link \\'0\\'\\n\\t\\t[2232] link \\'0\\'\\n\\t\\t[1820] StaticText \\'Updated \\'\\n\\t\\t[2067] time \\'Feb 5, 2024 10:08pm GMT+0530\\'\\n\\t\\t\\t[2701] StaticText \\'1 month ago\\''\n",
    "obs\n",
    "{'text': \"Tab 0 (current): Projects · Dashboard · GitLab\\n\\n[4] RootWebArea ...\\n\\t\\t\\t[2701] StaticText '1 month ago'\", 'image': array([[[ 34,  97, 161, 255],\n",
    "        [ 34,  97, 161, 255],\n",
    "        [ 34,  97, 161, 2...      [237, 237, 237, 255]]], dtype=uint8)}\n",
    "obs[image]\n",
    "Traceback (most recent call last):\n",
    "  File \"<string>\", line 1, in <module>\n",
    "NameError: name 'image' is not defined\n",
    "obs['image]\n",
    "Traceback (most recent call last):\n",
    "  File \"/Users/adnanazmat/.vscode/extensions/ms-python.debugpy-2024.2.0-darwin-arm64/bundled/libs/debugpy/_vendored/pydevd/_pydevd_bundle/pydevd_comm.py\", line 1195, in internal_evaluate_expression_json\n",
    "    pydevd_vars.evaluate_expression(py_db, frame, expression, is_exec=True)\n",
    "  File \"/Users/adnanazmat/.vscode/extensions/ms-python.debugpy-2024.2.0-darwin-arm64/bundled/libs/debugpy/_vendored/pydevd/_pydevd_bundle/pydevd_vars.py\", line 370, in new_func\n",
    "    return _run_with_unblock_threads(original_func, py_db, curr_thread, frame, expression, is_exec)\n",
    "  File \"/Users/adnanazmat/.vscode/extensions/ms-python.debugpy-2024.2.0-darwin-arm64/bundled/libs/debugpy/_vendored/pydevd/_pydevd_bundle/pydevd_vars.py\", line 334, in _run_with_unblock_threads\n",
    "    return _run_with_interrupt_thread(original_func, py_db, curr_thread, frame, expression, is_exec)\n",
    "  File \"/Users/adnanazmat/.vscode/extensions/ms-python.debugpy-2024.2.0-darwin-arm64/bundled/libs/debugpy/_vendored/pydevd/_pydevd_bundle/pydevd_vars.py\", line 305, in _run_with_interrupt_thread\n",
    "    return original_func(py_db, frame, expression, is_exec)\n",
    "  File \"/Users/adnanazmat/.vscode/extensions/ms-python.debugpy-2024.2.0-darwin-arm64/bundled/libs/debugpy/_vendored/pydevd/_pydevd_bundle/pydevd_vars.py\", line 548, in evaluate_expression\n",
    "    compiled = _compile_as_exec(expression)\n",
    "  File \"/Users/adnanazmat/.vscode/extensions/ms-python.debugpy-2024.2.0-darwin-arm64/bundled/libs/debugpy/_vendored/pydevd/_pydevd_bundle/pydevd_vars.py\", line 412, in _compile_as_exec\n",
    "    return compile(expression_to_evaluate, '<string>', 'exec', _ASYNC_COMPILE_FLAGS)\n",
    "  File \"<string>\", line 1\n",
    "    obs['image]\n",
    "        ^\n",
    "SyntaxError: unterminated string literal (detected at line 1)\n",
    "obs['image']\n",
    "array([[[ 34,  97, 161, 255],\n",
    "        [ 34,  97, 161, 255],\n",
    "        [ 34,  97, 161, 255],\n",
    "        ...,\n",
    "        [250, 250, 250, 255],\n",
    "        [250, 250, 250, 255],\n",
    "        [237, 237, 237, 255]],\n",
    "\n",
    "       [[ 34,  97, 161, 255],\n",
    "        [ 34,  97, 161, 255],\n",
    "        [ 34,  97, 161, 255],\n",
    "        ...,\n",
    "        [250, 250, 250, 255],\n",
    "        [250, 250, 250, 255],\n",
    "        [237, 237, 237, 255]],\n",
    "\n",
    "       [[ 34,  97, 161, 255],\n",
    "        [ 34,  97, 161, 255],\n",
    "        [ 34,  97, 161, 255],\n",
    "        ...,\n",
    "        [250, 250, 250, 255],\n",
    "        [250, 250, 250, 255],\n",
    "        [237, 237, 237, 255]],\n",
    "\n",
    "       ...,\n",
    "\n",
    "       [[255, 255, 255, 255],\n",
    "        [255, 255, 255, 255],\n",
    "        [255, 255, 255, 255],\n",
    "        ...,\n",
    "        [250, 250, 250, 255],\n",
    "        [250, 250, 250, 255],\n",
    "        [237, 237, 237, 255]],\n",
    "\n",
    "       [[255, 255, 255, 255],\n",
    "        [255, 255, 255, 255],\n",
    "        [255, 255, 255, 255],\n",
    "        ...,\n",
    "        [250, 250, 250, 255],\n",
    "        [250, 250, 250, 255],\n",
    "        [237, 237, 237, 255]],\n",
    "\n",
    "       [[255, 255, 255, 255],\n",
    "        [255, 255, 255, 255],\n",
    "        [255, 255, 255, 255],\n",
    "        ...,\n",
    "        [250, 250, 250, 255],\n",
    "        [250, 250, 250, 255],\n",
    "        [237, 237, 237, 255]]]\n"
   ]
  }
 ],
 "metadata": {
  "kernelspec": {
   "display_name": "webarena",
   "language": "python",
   "name": "python3"
  },
  "language_info": {
   "codemirror_mode": {
    "name": "ipython",
    "version": 3
   },
   "file_extension": ".py",
   "mimetype": "text/x-python",
   "name": "python",
   "nbconvert_exporter": "python",
   "pygments_lexer": "ipython3",
   "version": "3.10.13"
  }
 },
 "nbformat": 4,
 "nbformat_minor": 2
}
